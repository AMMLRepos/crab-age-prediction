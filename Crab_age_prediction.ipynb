{
  "nbformat": 4,
  "nbformat_minor": 0,
  "metadata": {
    "colab": {
      "name": "Crab age prediction",
      "provenance": [],
      "collapsed_sections": [],
      "authorship_tag": "ABX9TyP7eppss9i4gDOb+PukmTmc",
      "include_colab_link": true
    },
    "kernelspec": {
      "name": "python3",
      "display_name": "Python 3"
    },
    "language_info": {
      "name": "python"
    }
  },
  "cells": [
    {
      "cell_type": "markdown",
      "metadata": {
        "id": "view-in-github",
        "colab_type": "text"
      },
      "source": [
        "<a href=\"https://colab.research.google.com/github/AMMLRepos/crab-age-prediction/blob/main/Crab_age_prediction.ipynb\" target=\"_parent\"><img src=\"https://colab.research.google.com/assets/colab-badge.svg\" alt=\"Open In Colab\"/></a>"
      ]
    },
    {
      "cell_type": "markdown",
      "metadata": {
        "id": "jr1671Mi_jcz"
      },
      "source": [
        "# Overview \n",
        "Crab farming is a major aquaculture activity as there is a huge consumption demand of crabs in India. Commercial crab farming is a growing business in coastal areas of India and is looking profitable.\n",
        "Mud crab is highly popular due to its great demand in the export market. The commercial scale mud crab culture is developing fast along the coastal areas of Andhra Pradesh, Tamil Nadu, Kerala and Karnataka.\n",
        "\n",
        "# About Mud Crabs \n",
        "## Larger species :\n",
        "The larger species is locally known as `green mud crab'. It grows to a maximum size of 22 cm carapace width and 2 kg in weight.\n",
        "\n",
        "## Smaller species :\n",
        "The smaller species is known as `red claw'. This grows to a maximum size of 12.7 cm carapace width and 1.2 kg in weight.\n",
        "\n",
        "For more about Mud crab farming, please visit [this link](https://vikaspedia.in/agriculture/fisheries/brackish-water-fisheries/culture-fisheries/mud-crab-culture#:~:text=Mud%20crab%20farming%20is%20done,based%2C%20with%20or%20without%20mangroves.)\n",
        "To understand more on Mud crab, visit [this link](https://www.fish.wa.gov.au/Documents/recreational_fishing/fact_sheets/fact_sheet_mud_crab.pdf)\n",
        " \n",
        "\n",
        "# Business Problem\n",
        "For a commercial crab farmer knowing the right age of the crab helps them decide if and when to harvest the crabs. Beyond a certain age, there is negligible growth in crab's physical characteristics and hence, it is important to time the harvesting to reduce cost and increase profit."
      ]
    },
    {
      "cell_type": "markdown",
      "metadata": {
        "id": "JMXpM1GpBK_N"
      },
      "source": [
        "# About data\n",
        "We have our dataset publicly available on [Kaggle](https://www.kaggle.com/sidhus/crab-age-prediction). The dataset has following columns - \n",
        "\n",
        "- Sex : Gender of crab (Male and Female)\n",
        "- Length : Lenght of crab in \n",
        "- Diameter : Diameter of crab in \n",
        "- Height : Height of crab in \n",
        "- Weight : Weight of crab in \n",
        "- Shucked Weight : Weight of crab without shell\n",
        "- Viscera Weight : is weight that wraps around your abdominal organs deep inside body\n",
        "- Shell Weight : Weight of shell\n",
        "- Age : Age of crab in months\n",
        "\n"
      ]
    },
    {
      "cell_type": "markdown",
      "metadata": {
        "id": "xK7pB6dfDuEa"
      },
      "source": [
        "# Importing required libraries and downloading dataset"
      ]
    },
    {
      "cell_type": "code",
      "metadata": {
        "colab": {
          "base_uri": "https://localhost:8080/"
        },
        "id": "SXQ5rh97E-RB",
        "outputId": "0a9bfe48-6d4a-4e1f-afa4-3f3712de56da"
      },
      "source": [
        "!pip install opendatasets"
      ],
      "execution_count": 73,
      "outputs": [
        {
          "output_type": "stream",
          "name": "stdout",
          "text": [
            "Requirement already satisfied: opendatasets in /usr/local/lib/python3.7/dist-packages (0.1.20)\n",
            "Requirement already satisfied: tqdm in /usr/local/lib/python3.7/dist-packages (from opendatasets) (4.62.3)\n",
            "Requirement already satisfied: click in /usr/local/lib/python3.7/dist-packages (from opendatasets) (7.1.2)\n",
            "Requirement already satisfied: kaggle in /usr/local/lib/python3.7/dist-packages (from opendatasets) (1.5.12)\n",
            "Requirement already satisfied: six>=1.10 in /usr/local/lib/python3.7/dist-packages (from kaggle->opendatasets) (1.15.0)\n",
            "Requirement already satisfied: requests in /usr/local/lib/python3.7/dist-packages (from kaggle->opendatasets) (2.23.0)\n",
            "Requirement already satisfied: certifi in /usr/local/lib/python3.7/dist-packages (from kaggle->opendatasets) (2021.10.8)\n",
            "Requirement already satisfied: python-dateutil in /usr/local/lib/python3.7/dist-packages (from kaggle->opendatasets) (2.8.2)\n",
            "Requirement already satisfied: urllib3 in /usr/local/lib/python3.7/dist-packages (from kaggle->opendatasets) (1.24.3)\n",
            "Requirement already satisfied: python-slugify in /usr/local/lib/python3.7/dist-packages (from kaggle->opendatasets) (5.0.2)\n",
            "Requirement already satisfied: text-unidecode>=1.3 in /usr/local/lib/python3.7/dist-packages (from python-slugify->kaggle->opendatasets) (1.3)\n",
            "Requirement already satisfied: chardet<4,>=3.0.2 in /usr/local/lib/python3.7/dist-packages (from requests->kaggle->opendatasets) (3.0.4)\n",
            "Requirement already satisfied: idna<3,>=2.5 in /usr/local/lib/python3.7/dist-packages (from requests->kaggle->opendatasets) (2.10)\n"
          ]
        }
      ]
    },
    {
      "cell_type": "code",
      "metadata": {
        "id": "hWaPU9bZ_W0I"
      },
      "source": [
        "import pandas as pd\n",
        "import numpy as np\n",
        "import matplotlib.pyplot as plt\n",
        "import seaborn as sns\n",
        "import opendatasets as od "
      ],
      "execution_count": 74,
      "outputs": []
    },
    {
      "cell_type": "code",
      "metadata": {
        "colab": {
          "base_uri": "https://localhost:8080/"
        },
        "id": "9_c6h3kxFcn-",
        "outputId": "a7ca714e-a9a0-4396-add7-198b381c5c8a"
      },
      "source": [
        "import opendatasets as od\n",
        "import os \n",
        "dataset_url = \"https://www.kaggle.com/sidhus/crab-age-prediction\"\n",
        "od.download(dataset_url)"
      ],
      "execution_count": 75,
      "outputs": [
        {
          "output_type": "stream",
          "name": "stdout",
          "text": [
            "Skipping, found downloaded files in \"./crab-age-prediction\" (use force=True to force download)\n"
          ]
        }
      ]
    },
    {
      "cell_type": "code",
      "metadata": {
        "colab": {
          "base_uri": "https://localhost:8080/"
        },
        "id": "YhGp4XZqF34o",
        "outputId": "4fea9bf8-9feb-4196-b4ac-6025c952aa13"
      },
      "source": [
        "files = os.listdir(\"crab-age-prediction\")\n",
        "print(files)"
      ],
      "execution_count": 76,
      "outputs": [
        {
          "output_type": "stream",
          "name": "stdout",
          "text": [
            "['CrabAgePrediction.csv']\n"
          ]
        }
      ]
    },
    {
      "cell_type": "code",
      "metadata": {
        "id": "TaRP6bu1GFdH"
      },
      "source": [
        "filepath = \"crab-age-prediction/CrabAgePrediction.csv\""
      ],
      "execution_count": 77,
      "outputs": []
    },
    {
      "cell_type": "code",
      "metadata": {
        "colab": {
          "base_uri": "https://localhost:8080/",
          "height": 424
        },
        "id": "LMzktOHnGJ6e",
        "outputId": "e8a1cccd-d854-4a66-979a-ac79c527534a"
      },
      "source": [
        "crab_df = pd.read_csv(filepath)\n",
        "crab_df"
      ],
      "execution_count": 78,
      "outputs": [
        {
          "output_type": "execute_result",
          "data": {
            "text/html": [
              "<div>\n",
              "<style scoped>\n",
              "    .dataframe tbody tr th:only-of-type {\n",
              "        vertical-align: middle;\n",
              "    }\n",
              "\n",
              "    .dataframe tbody tr th {\n",
              "        vertical-align: top;\n",
              "    }\n",
              "\n",
              "    .dataframe thead th {\n",
              "        text-align: right;\n",
              "    }\n",
              "</style>\n",
              "<table border=\"1\" class=\"dataframe\">\n",
              "  <thead>\n",
              "    <tr style=\"text-align: right;\">\n",
              "      <th></th>\n",
              "      <th>Sex</th>\n",
              "      <th>Length</th>\n",
              "      <th>Diameter</th>\n",
              "      <th>Height</th>\n",
              "      <th>Weight</th>\n",
              "      <th>Shucked Weight</th>\n",
              "      <th>Viscera Weight</th>\n",
              "      <th>Shell Weight</th>\n",
              "      <th>Age</th>\n",
              "    </tr>\n",
              "  </thead>\n",
              "  <tbody>\n",
              "    <tr>\n",
              "      <th>0</th>\n",
              "      <td>F</td>\n",
              "      <td>1.4375</td>\n",
              "      <td>1.1750</td>\n",
              "      <td>0.4125</td>\n",
              "      <td>24.635715</td>\n",
              "      <td>12.332033</td>\n",
              "      <td>5.584852</td>\n",
              "      <td>6.747181</td>\n",
              "      <td>9</td>\n",
              "    </tr>\n",
              "    <tr>\n",
              "      <th>1</th>\n",
              "      <td>M</td>\n",
              "      <td>0.8875</td>\n",
              "      <td>0.6500</td>\n",
              "      <td>0.2125</td>\n",
              "      <td>5.400580</td>\n",
              "      <td>2.296310</td>\n",
              "      <td>1.374951</td>\n",
              "      <td>1.559222</td>\n",
              "      <td>6</td>\n",
              "    </tr>\n",
              "    <tr>\n",
              "      <th>2</th>\n",
              "      <td>I</td>\n",
              "      <td>1.0375</td>\n",
              "      <td>0.7750</td>\n",
              "      <td>0.2500</td>\n",
              "      <td>7.952035</td>\n",
              "      <td>3.231843</td>\n",
              "      <td>1.601747</td>\n",
              "      <td>2.764076</td>\n",
              "      <td>6</td>\n",
              "    </tr>\n",
              "    <tr>\n",
              "      <th>3</th>\n",
              "      <td>F</td>\n",
              "      <td>1.1750</td>\n",
              "      <td>0.8875</td>\n",
              "      <td>0.2500</td>\n",
              "      <td>13.480187</td>\n",
              "      <td>4.748541</td>\n",
              "      <td>2.282135</td>\n",
              "      <td>5.244657</td>\n",
              "      <td>10</td>\n",
              "    </tr>\n",
              "    <tr>\n",
              "      <th>4</th>\n",
              "      <td>I</td>\n",
              "      <td>0.8875</td>\n",
              "      <td>0.6625</td>\n",
              "      <td>0.2125</td>\n",
              "      <td>6.903103</td>\n",
              "      <td>3.458639</td>\n",
              "      <td>1.488349</td>\n",
              "      <td>1.700970</td>\n",
              "      <td>6</td>\n",
              "    </tr>\n",
              "    <tr>\n",
              "      <th>...</th>\n",
              "      <td>...</td>\n",
              "      <td>...</td>\n",
              "      <td>...</td>\n",
              "      <td>...</td>\n",
              "      <td>...</td>\n",
              "      <td>...</td>\n",
              "      <td>...</td>\n",
              "      <td>...</td>\n",
              "      <td>...</td>\n",
              "    </tr>\n",
              "    <tr>\n",
              "      <th>3888</th>\n",
              "      <td>F</td>\n",
              "      <td>1.4625</td>\n",
              "      <td>1.1375</td>\n",
              "      <td>0.3250</td>\n",
              "      <td>24.819987</td>\n",
              "      <td>11.651645</td>\n",
              "      <td>5.854172</td>\n",
              "      <td>6.378637</td>\n",
              "      <td>8</td>\n",
              "    </tr>\n",
              "    <tr>\n",
              "      <th>3889</th>\n",
              "      <td>F</td>\n",
              "      <td>1.5500</td>\n",
              "      <td>1.2125</td>\n",
              "      <td>0.4375</td>\n",
              "      <td>34.458817</td>\n",
              "      <td>15.450477</td>\n",
              "      <td>7.172423</td>\n",
              "      <td>9.780577</td>\n",
              "      <td>10</td>\n",
              "    </tr>\n",
              "    <tr>\n",
              "      <th>3890</th>\n",
              "      <td>I</td>\n",
              "      <td>0.6250</td>\n",
              "      <td>0.4625</td>\n",
              "      <td>0.1625</td>\n",
              "      <td>2.012815</td>\n",
              "      <td>0.765436</td>\n",
              "      <td>0.524466</td>\n",
              "      <td>0.637864</td>\n",
              "      <td>5</td>\n",
              "    </tr>\n",
              "    <tr>\n",
              "      <th>3891</th>\n",
              "      <td>I</td>\n",
              "      <td>1.0625</td>\n",
              "      <td>0.7750</td>\n",
              "      <td>0.2625</td>\n",
              "      <td>10.347568</td>\n",
              "      <td>4.507570</td>\n",
              "      <td>2.338834</td>\n",
              "      <td>2.976697</td>\n",
              "      <td>6</td>\n",
              "    </tr>\n",
              "    <tr>\n",
              "      <th>3892</th>\n",
              "      <td>I</td>\n",
              "      <td>0.7875</td>\n",
              "      <td>0.6125</td>\n",
              "      <td>0.2125</td>\n",
              "      <td>4.068153</td>\n",
              "      <td>1.502524</td>\n",
              "      <td>1.346601</td>\n",
              "      <td>1.417475</td>\n",
              "      <td>8</td>\n",
              "    </tr>\n",
              "  </tbody>\n",
              "</table>\n",
              "<p>3893 rows × 9 columns</p>\n",
              "</div>"
            ],
            "text/plain": [
              "     Sex  Length  Diameter  ...  Viscera Weight  Shell Weight  Age\n",
              "0      F  1.4375    1.1750  ...        5.584852      6.747181    9\n",
              "1      M  0.8875    0.6500  ...        1.374951      1.559222    6\n",
              "2      I  1.0375    0.7750  ...        1.601747      2.764076    6\n",
              "3      F  1.1750    0.8875  ...        2.282135      5.244657   10\n",
              "4      I  0.8875    0.6625  ...        1.488349      1.700970    6\n",
              "...   ..     ...       ...  ...             ...           ...  ...\n",
              "3888   F  1.4625    1.1375  ...        5.854172      6.378637    8\n",
              "3889   F  1.5500    1.2125  ...        7.172423      9.780577   10\n",
              "3890   I  0.6250    0.4625  ...        0.524466      0.637864    5\n",
              "3891   I  1.0625    0.7750  ...        2.338834      2.976697    6\n",
              "3892   I  0.7875    0.6125  ...        1.346601      1.417475    8\n",
              "\n",
              "[3893 rows x 9 columns]"
            ]
          },
          "metadata": {},
          "execution_count": 78
        }
      ]
    },
    {
      "cell_type": "code",
      "metadata": {
        "colab": {
          "base_uri": "https://localhost:8080/"
        },
        "id": "rLUtXXI3GWuy",
        "outputId": "53673ccc-10ea-473c-9c69-c75e3bbbd337"
      },
      "source": [
        "crab_df.info()"
      ],
      "execution_count": 79,
      "outputs": [
        {
          "output_type": "stream",
          "name": "stdout",
          "text": [
            "<class 'pandas.core.frame.DataFrame'>\n",
            "RangeIndex: 3893 entries, 0 to 3892\n",
            "Data columns (total 9 columns):\n",
            " #   Column          Non-Null Count  Dtype  \n",
            "---  ------          --------------  -----  \n",
            " 0   Sex             3893 non-null   object \n",
            " 1   Length          3893 non-null   float64\n",
            " 2   Diameter        3893 non-null   float64\n",
            " 3   Height          3893 non-null   float64\n",
            " 4   Weight          3893 non-null   float64\n",
            " 5   Shucked Weight  3893 non-null   float64\n",
            " 6   Viscera Weight  3893 non-null   float64\n",
            " 7   Shell Weight    3893 non-null   float64\n",
            " 8   Age             3893 non-null   int64  \n",
            "dtypes: float64(7), int64(1), object(1)\n",
            "memory usage: 273.9+ KB\n"
          ]
        }
      ]
    },
    {
      "cell_type": "code",
      "metadata": {
        "colab": {
          "base_uri": "https://localhost:8080/",
          "height": 300
        },
        "id": "YYLMCp3WGYn_",
        "outputId": "038558a4-1d91-4af1-fd0a-48570b1848da"
      },
      "source": [
        "crab_df.describe()"
      ],
      "execution_count": 80,
      "outputs": [
        {
          "output_type": "execute_result",
          "data": {
            "text/html": [
              "<div>\n",
              "<style scoped>\n",
              "    .dataframe tbody tr th:only-of-type {\n",
              "        vertical-align: middle;\n",
              "    }\n",
              "\n",
              "    .dataframe tbody tr th {\n",
              "        vertical-align: top;\n",
              "    }\n",
              "\n",
              "    .dataframe thead th {\n",
              "        text-align: right;\n",
              "    }\n",
              "</style>\n",
              "<table border=\"1\" class=\"dataframe\">\n",
              "  <thead>\n",
              "    <tr style=\"text-align: right;\">\n",
              "      <th></th>\n",
              "      <th>Length</th>\n",
              "      <th>Diameter</th>\n",
              "      <th>Height</th>\n",
              "      <th>Weight</th>\n",
              "      <th>Shucked Weight</th>\n",
              "      <th>Viscera Weight</th>\n",
              "      <th>Shell Weight</th>\n",
              "      <th>Age</th>\n",
              "    </tr>\n",
              "  </thead>\n",
              "  <tbody>\n",
              "    <tr>\n",
              "      <th>count</th>\n",
              "      <td>3893.000000</td>\n",
              "      <td>3893.000000</td>\n",
              "      <td>3893.000000</td>\n",
              "      <td>3893.000000</td>\n",
              "      <td>3893.000000</td>\n",
              "      <td>3893.000000</td>\n",
              "      <td>3893.000000</td>\n",
              "      <td>3893.000000</td>\n",
              "    </tr>\n",
              "    <tr>\n",
              "      <th>mean</th>\n",
              "      <td>1.311306</td>\n",
              "      <td>1.020893</td>\n",
              "      <td>0.349374</td>\n",
              "      <td>23.567275</td>\n",
              "      <td>10.207342</td>\n",
              "      <td>5.136546</td>\n",
              "      <td>6.795844</td>\n",
              "      <td>9.954791</td>\n",
              "    </tr>\n",
              "    <tr>\n",
              "      <th>std</th>\n",
              "      <td>0.300431</td>\n",
              "      <td>0.248233</td>\n",
              "      <td>0.104976</td>\n",
              "      <td>13.891201</td>\n",
              "      <td>6.275275</td>\n",
              "      <td>3.104133</td>\n",
              "      <td>3.943392</td>\n",
              "      <td>3.220967</td>\n",
              "    </tr>\n",
              "    <tr>\n",
              "      <th>min</th>\n",
              "      <td>0.187500</td>\n",
              "      <td>0.137500</td>\n",
              "      <td>0.000000</td>\n",
              "      <td>0.056699</td>\n",
              "      <td>0.028349</td>\n",
              "      <td>0.014175</td>\n",
              "      <td>0.042524</td>\n",
              "      <td>1.000000</td>\n",
              "    </tr>\n",
              "    <tr>\n",
              "      <th>25%</th>\n",
              "      <td>1.125000</td>\n",
              "      <td>0.875000</td>\n",
              "      <td>0.287500</td>\n",
              "      <td>12.672227</td>\n",
              "      <td>5.343881</td>\n",
              "      <td>2.664853</td>\n",
              "      <td>3.713785</td>\n",
              "      <td>8.000000</td>\n",
              "    </tr>\n",
              "    <tr>\n",
              "      <th>50%</th>\n",
              "      <td>1.362500</td>\n",
              "      <td>1.062500</td>\n",
              "      <td>0.362500</td>\n",
              "      <td>22.792998</td>\n",
              "      <td>9.539607</td>\n",
              "      <td>4.861939</td>\n",
              "      <td>6.662132</td>\n",
              "      <td>10.000000</td>\n",
              "    </tr>\n",
              "    <tr>\n",
              "      <th>75%</th>\n",
              "      <td>1.537500</td>\n",
              "      <td>1.200000</td>\n",
              "      <td>0.412500</td>\n",
              "      <td>32.786197</td>\n",
              "      <td>14.273973</td>\n",
              "      <td>7.200773</td>\n",
              "      <td>9.355335</td>\n",
              "      <td>11.000000</td>\n",
              "    </tr>\n",
              "    <tr>\n",
              "      <th>max</th>\n",
              "      <td>2.037500</td>\n",
              "      <td>1.625000</td>\n",
              "      <td>2.825000</td>\n",
              "      <td>80.101512</td>\n",
              "      <td>42.184056</td>\n",
              "      <td>21.545620</td>\n",
              "      <td>28.491247</td>\n",
              "      <td>29.000000</td>\n",
              "    </tr>\n",
              "  </tbody>\n",
              "</table>\n",
              "</div>"
            ],
            "text/plain": [
              "            Length     Diameter  ...  Shell Weight          Age\n",
              "count  3893.000000  3893.000000  ...   3893.000000  3893.000000\n",
              "mean      1.311306     1.020893  ...      6.795844     9.954791\n",
              "std       0.300431     0.248233  ...      3.943392     3.220967\n",
              "min       0.187500     0.137500  ...      0.042524     1.000000\n",
              "25%       1.125000     0.875000  ...      3.713785     8.000000\n",
              "50%       1.362500     1.062500  ...      6.662132    10.000000\n",
              "75%       1.537500     1.200000  ...      9.355335    11.000000\n",
              "max       2.037500     1.625000  ...     28.491247    29.000000\n",
              "\n",
              "[8 rows x 8 columns]"
            ]
          },
          "metadata": {},
          "execution_count": 80
        }
      ]
    },
    {
      "cell_type": "markdown",
      "metadata": {
        "id": "ftYsqsUUHgw_"
      },
      "source": [
        "# Exploratory data analysis\n",
        "Let us perform the basic exploration on the dataset and figure out relationships between various columns / features with Age"
      ]
    },
    {
      "cell_type": "code",
      "metadata": {
        "colab": {
          "base_uri": "https://localhost:8080/",
          "height": 386
        },
        "id": "zIklpMEeHqS0",
        "outputId": "1de6c101-38f2-4d8b-c1ce-5117cbadb56c"
      },
      "source": [
        "sns.relplot(x = \"Length\", y = \"Age\", data = crab_df)"
      ],
      "execution_count": 81,
      "outputs": [
        {
          "output_type": "execute_result",
          "data": {
            "text/plain": [
              "<seaborn.axisgrid.FacetGrid at 0x7f5d0105b050>"
            ]
          },
          "metadata": {},
          "execution_count": 81
        },
        {
          "output_type": "display_data",
          "data": {
            "image/png": "[encoded data removed]",
            "text/plain": [
              "<Figure size 360x360 with 1 Axes>"
            ]
          },
          "metadata": {}
        }
      ]
    },
    {
      "cell_type": "code",
      "metadata": {
        "colab": {
          "base_uri": "https://localhost:8080/",
          "height": 386
        },
        "id": "9IFd3-dHIUFo",
        "outputId": "a5f74575-bd62-4aa2-e655-41308e8b8dbe"
      },
      "source": [
        "sns.relplot(x = \"Diameter\", y = \"Age\", data = crab_df)"
      ],
      "execution_count": 82,
      "outputs": [
        {
          "output_type": "execute_result",
          "data": {
            "text/plain": [
              "<seaborn.axisgrid.FacetGrid at 0x7f5cff76fcd0>"
            ]
          },
          "metadata": {},
          "execution_count": 82
        },
        {
          "output_type": "display_data",
          "data": {
            "image/png": "[encoded data removed]",
            "text/plain": [
              "<Figure size 360x360 with 1 Axes>"
            ]
          },
          "metadata": {}
        }
      ]
    },
    {
      "cell_type": "code",
      "metadata": {
        "colab": {
          "base_uri": "https://localhost:8080/",
          "height": 386
        },
        "id": "avS79c1QIZnG",
        "outputId": "8f8abc7d-ac0f-4e64-cf37-bb5667fa9d30"
      },
      "source": [
        "sns.relplot(x = \"Height\", y = \"Age\", data = crab_df)"
      ],
      "execution_count": 83,
      "outputs": [
        {
          "output_type": "execute_result",
          "data": {
            "text/plain": [
              "<seaborn.axisgrid.FacetGrid at 0x7f5cff6eea90>"
            ]
          },
          "metadata": {},
          "execution_count": 83
        },
        {
          "output_type": "display_data",
          "data": {
            "image/png": "[encoded data removed]",
            "text/plain": [
              "<Figure size 360x360 with 1 Axes>"
            ]
          },
          "metadata": {}
        }
      ]
    },
    {
      "cell_type": "code",
      "metadata": {
        "colab": {
          "base_uri": "https://localhost:8080/",
          "height": 386
        },
        "id": "c2JohQrKIcbm",
        "outputId": "153a8d3e-7a4c-4364-d7ed-70385e6296cf"
      },
      "source": [
        "sns.relplot(x = \"Weight\", y = \"Age\", data = crab_df)"
      ],
      "execution_count": 84,
      "outputs": [
        {
          "output_type": "execute_result",
          "data": {
            "text/plain": [
              "<seaborn.axisgrid.FacetGrid at 0x7f5cff73bc10>"
            ]
          },
          "metadata": {},
          "execution_count": 84
        },
        {
          "output_type": "display_data",
          "data": {
            "image/png": "[encoded data removed]",
            "text/plain": [
              "<Figure size 360x360 with 1 Axes>"
            ]
          },
          "metadata": {}
        }
      ]
    },
    {
      "cell_type": "code",
      "metadata": {
        "colab": {
          "base_uri": "https://localhost:8080/",
          "height": 386
        },
        "id": "T4Ptyg46IhE5",
        "outputId": "fd12595e-1004-48c9-ae2e-624896cbcb6d"
      },
      "source": [
        "sns.relplot(x = \"Shucked Weight\", y = \"Age\", data = crab_df)"
      ],
      "execution_count": 85,
      "outputs": [
        {
          "output_type": "execute_result",
          "data": {
            "text/plain": [
              "<seaborn.axisgrid.FacetGrid at 0x7f5cff5e5890>"
            ]
          },
          "metadata": {},
          "execution_count": 85
        },
        {
          "output_type": "display_data",
          "data": {
            "image/png": "[encoded data removed]",
            "text/plain": [
              "<Figure size 360x360 with 1 Axes>"
            ]
          },
          "metadata": {}
        }
      ]
    },
    {
      "cell_type": "code",
      "metadata": {
        "colab": {
          "base_uri": "https://localhost:8080/",
          "height": 386
        },
        "id": "J1tqOSUaImVZ",
        "outputId": "259192e3-8344-47c4-8c8b-a412becb8b1a"
      },
      "source": [
        "sns.relplot(x = \"Viscera Weight\", y = \"Age\", data = crab_df)"
      ],
      "execution_count": 86,
      "outputs": [
        {
          "output_type": "execute_result",
          "data": {
            "text/plain": [
              "<seaborn.axisgrid.FacetGrid at 0x7f5cff83eb90>"
            ]
          },
          "metadata": {},
          "execution_count": 86
        },
        {
          "output_type": "display_data",
          "data": {
            "image/png": "[encoded data removed]",
            "text/plain": [
              "<Figure size 360x360 with 1 Axes>"
            ]
          },
          "metadata": {}
        }
      ]
    },
    {
      "cell_type": "code",
      "metadata": {
        "colab": {
          "base_uri": "https://localhost:8080/",
          "height": 386
        },
        "id": "XhqSyAIQIrmD",
        "outputId": "fe9d719b-d4a4-4a89-a80a-3adebf10d1bb"
      },
      "source": [
        "sns.relplot(x = \"Shell Weight\", y = \"Age\", data = crab_df)"
      ],
      "execution_count": 87,
      "outputs": [
        {
          "output_type": "execute_result",
          "data": {
            "text/plain": [
              "<seaborn.axisgrid.FacetGrid at 0x7f5cff6c7550>"
            ]
          },
          "metadata": {},
          "execution_count": 87
        },
        {
          "output_type": "display_data",
          "data": {
            "image/png": "[encoded data removed]",
            "text/plain": [
              "<Figure size 360x360 with 1 Axes>"
            ]
          },
          "metadata": {}
        }
      ]
    },
    {
      "cell_type": "code",
      "metadata": {
        "colab": {
          "base_uri": "https://localhost:8080/",
          "height": 296
        },
        "id": "V3bRhzIDI1Ke",
        "outputId": "02212162-b17f-4879-a5ed-40679f165a6c"
      },
      "source": [
        "sns.countplot(x = \"Sex\", data = crab_df)"
      ],
      "execution_count": 88,
      "outputs": [
        {
          "output_type": "execute_result",
          "data": {
            "text/plain": [
              "<matplotlib.axes._subplots.AxesSubplot at 0x7f5cff50bcd0>"
            ]
          },
          "metadata": {},
          "execution_count": 88
        },
        {
          "output_type": "display_data",
          "data": {
            "image/png": "[encoded data removed]",
            "text/plain": [
              "<Figure size 432x288 with 1 Axes>"
            ]
          },
          "metadata": {}
        }
      ]
    },
    {
      "cell_type": "code",
      "metadata": {
        "colab": {
          "base_uri": "https://localhost:8080/",
          "height": 296
        },
        "id": "xALwDaU7JK7G",
        "outputId": "f58eb143-eb3a-47bc-e82f-7c7d15fbaede"
      },
      "source": [
        "sns.histplot(data = crab_df, x = \"Age\")"
      ],
      "execution_count": 89,
      "outputs": [
        {
          "output_type": "execute_result",
          "data": {
            "text/plain": [
              "<matplotlib.axes._subplots.AxesSubplot at 0x7f5cff4513d0>"
            ]
          },
          "metadata": {},
          "execution_count": 89
        },
        {
          "output_type": "display_data",
          "data": {
            "image/png": "[encoded data removed]",
            "text/plain": [
              "<Figure size 432x288 with 1 Axes>"
            ]
          },
          "metadata": {}
        }
      ]
    },
    {
      "cell_type": "code",
      "metadata": {
        "colab": {
          "base_uri": "https://localhost:8080/",
          "height": 279
        },
        "id": "NBZVfEbWJqkH",
        "outputId": "e6f1034f-3122-4af4-80fb-af48b45adaae"
      },
      "source": [
        "plt.hist(crab_df[\"Age\"]);\n",
        "plt.axvline(crab_df[\"Age\"].mean(), color='k', linestyle='dashed', linewidth=2)\n",
        "plt.xlabel(\"Age of crabs\")\n",
        "plt.ylabel(\"Count of each Age\")\n",
        "\n",
        "plt.show()"
      ],
      "execution_count": 90,
      "outputs": [
        {
          "output_type": "display_data",
          "data": {
            "image/png": "[encoded data removed]",
            "text/plain": [
              "<Figure size 432x288 with 1 Axes>"
            ]
          },
          "metadata": {}
        }
      ]
    },
    {
      "cell_type": "code",
      "metadata": {
        "colab": {
          "base_uri": "https://localhost:8080/",
          "height": 573
        },
        "id": "jKHRFwFpJ6Lk",
        "outputId": "653d3be9-cf3a-478f-fa8d-c295f9570c72"
      },
      "source": [
        "plt.figure(figsize = (25,10))\n",
        "sns.heatmap(crab_df.corr(), annot = True)"
      ],
      "execution_count": 91,
      "outputs": [
        {
          "output_type": "execute_result",
          "data": {
            "text/plain": [
              "<matplotlib.axes._subplots.AxesSubplot at 0x7f5cff310dd0>"
            ]
          },
          "metadata": {},
          "execution_count": 91
        },
        {
          "output_type": "display_data",
          "data": {
            "image/png": "[encoded data removed]",
            "text/plain": [
              "<Figure size 1800x720 with 2 Axes>"
            ]
          },
          "metadata": {}
        }
      ]
    },
    {
      "cell_type": "code",
      "metadata": {
        "colab": {
          "base_uri": "https://localhost:8080/",
          "height": 296
        },
        "id": "7RX4NcgNKF1d",
        "outputId": "c8b22a3a-e119-493f-efa0-085f01c72ba8"
      },
      "source": [
        "sns.set_style(\"darkgrid\")\n",
        "sns.boxplot(x = \"Weight\", data = crab_df)"
      ],
      "execution_count": 92,
      "outputs": [
        {
          "output_type": "execute_result",
          "data": {
            "text/plain": [
              "<matplotlib.axes._subplots.AxesSubplot at 0x7f5cff2c09d0>"
            ]
          },
          "metadata": {},
          "execution_count": 92
        },
        {
          "output_type": "display_data",
          "data": {
            "image/png": "[encoded data removed]",
            "text/plain": [
              "<Figure size 432x288 with 1 Axes>"
            ]
          },
          "metadata": {}
        }
      ]
    },
    {
      "cell_type": "code",
      "metadata": {
        "colab": {
          "base_uri": "https://localhost:8080/",
          "height": 296
        },
        "id": "0yt6cW1tKV89",
        "outputId": "6b679903-656d-45f7-c7af-f3e558d59153"
      },
      "source": [
        "sns.set_style(\"darkgrid\")\n",
        "sns.boxplot(x = \"Height\", data = crab_df)"
      ],
      "execution_count": 93,
      "outputs": [
        {
          "output_type": "execute_result",
          "data": {
            "text/plain": [
              "<matplotlib.axes._subplots.AxesSubplot at 0x7f5cff2c0bd0>"
            ]
          },
          "metadata": {},
          "execution_count": 93
        },
        {
          "output_type": "display_data",
          "data": {
            "image/png": "[encoded data removed]",
            "text/plain": [
              "<Figure size 432x288 with 1 Axes>"
            ]
          },
          "metadata": {}
        }
      ]
    },
    {
      "cell_type": "markdown",
      "metadata": {
        "id": "w2a2wt6SKmfY"
      },
      "source": [
        "# Preparing data for training"
      ]
    },
    {
      "cell_type": "markdown",
      "metadata": {
        "id": "TT--un6gLTH3"
      },
      "source": [
        "Listing out of all columns "
      ]
    },
    {
      "cell_type": "code",
      "metadata": {
        "colab": {
          "base_uri": "https://localhost:8080/"
        },
        "id": "iiOV3oKxK9y3",
        "outputId": "a3dddd21-e915-4fb5-f192-fa68f512b8f2"
      },
      "source": [
        "crab_df.columns"
      ],
      "execution_count": 94,
      "outputs": [
        {
          "output_type": "execute_result",
          "data": {
            "text/plain": [
              "Index(['Sex', 'Length', 'Diameter', 'Height', 'Weight', 'Shucked Weight',\n",
              "       'Viscera Weight', 'Shell Weight', 'Age'],\n",
              "      dtype='object')"
            ]
          },
          "metadata": {},
          "execution_count": 94
        }
      ]
    },
    {
      "cell_type": "markdown",
      "metadata": {
        "id": "XqOzinwfLWdD"
      },
      "source": [
        "Let us encode Sex column into 0 and 1 for male and female "
      ]
    },
    {
      "cell_type": "code",
      "metadata": {
        "id": "12ErLRVpLp9P"
      },
      "source": [
        "from sklearn.preprocessing import LabelEncoder\n",
        "le = LabelEncoder()\n",
        "crab_df['Gender'] = le.fit_transform(crab_df['Sex'])"
      ],
      "execution_count": 95,
      "outputs": []
    },
    {
      "cell_type": "markdown",
      "metadata": {
        "id": "xDNEOBHZMHoD"
      },
      "source": [
        "Since there are 3 genders, let us do one hot encoding"
      ]
    },
    {
      "cell_type": "code",
      "metadata": {
        "colab": {
          "base_uri": "https://localhost:8080/"
        },
        "id": "ipigw4RNNC3p",
        "outputId": "ed96d54e-eea2-4595-aeb1-b08cfd38e92f"
      },
      "source": [
        "crab_df.info()"
      ],
      "execution_count": 96,
      "outputs": [
        {
          "output_type": "stream",
          "name": "stdout",
          "text": [
            "<class 'pandas.core.frame.DataFrame'>\n",
            "RangeIndex: 3893 entries, 0 to 3892\n",
            "Data columns (total 10 columns):\n",
            " #   Column          Non-Null Count  Dtype  \n",
            "---  ------          --------------  -----  \n",
            " 0   Sex             3893 non-null   object \n",
            " 1   Length          3893 non-null   float64\n",
            " 2   Diameter        3893 non-null   float64\n",
            " 3   Height          3893 non-null   float64\n",
            " 4   Weight          3893 non-null   float64\n",
            " 5   Shucked Weight  3893 non-null   float64\n",
            " 6   Viscera Weight  3893 non-null   float64\n",
            " 7   Shell Weight    3893 non-null   float64\n",
            " 8   Age             3893 non-null   int64  \n",
            " 9   Gender          3893 non-null   int64  \n",
            "dtypes: float64(7), int64(2), object(1)\n",
            "memory usage: 304.3+ KB\n"
          ]
        }
      ]
    },
    {
      "cell_type": "code",
      "metadata": {
        "id": "Eb4WfXxoMKRI"
      },
      "source": [
        "from sklearn.preprocessing import OneHotEncoder\n",
        "onehot = OneHotEncoder()\n",
        "crab_sex_df = pd.DataFrame(onehot.fit_transform(crab_df[['Sex']]).toarray())\n",
        "crab_df = crab_df.join(crab_sex_df)"
      ],
      "execution_count": 97,
      "outputs": []
    },
    {
      "cell_type": "code",
      "metadata": {
        "colab": {
          "base_uri": "https://localhost:8080/",
          "height": 424
        },
        "id": "1ksWk1Z2L2Yg",
        "outputId": "4b65ccf8-56d3-43f1-b4ea-fc4b5d19a5f6"
      },
      "source": [
        "crab_df"
      ],
      "execution_count": 98,
      "outputs": [
        {
          "output_type": "execute_result",
          "data": {
            "text/html": [
              "<div>\n",
              "<style scoped>\n",
              "    .dataframe tbody tr th:only-of-type {\n",
              "        vertical-align: middle;\n",
              "    }\n",
              "\n",
              "    .dataframe tbody tr th {\n",
              "        vertical-align: top;\n",
              "    }\n",
              "\n",
              "    .dataframe thead th {\n",
              "        text-align: right;\n",
              "    }\n",
              "</style>\n",
              "<table border=\"1\" class=\"dataframe\">\n",
              "  <thead>\n",
              "    <tr style=\"text-align: right;\">\n",
              "      <th></th>\n",
              "      <th>Sex</th>\n",
              "      <th>Length</th>\n",
              "      <th>Diameter</th>\n",
              "      <th>Height</th>\n",
              "      <th>Weight</th>\n",
              "      <th>Shucked Weight</th>\n",
              "      <th>Viscera Weight</th>\n",
              "      <th>Shell Weight</th>\n",
              "      <th>Age</th>\n",
              "      <th>Gender</th>\n",
              "      <th>0</th>\n",
              "      <th>1</th>\n",
              "      <th>2</th>\n",
              "    </tr>\n",
              "  </thead>\n",
              "  <tbody>\n",
              "    <tr>\n",
              "      <th>0</th>\n",
              "      <td>F</td>\n",
              "      <td>1.4375</td>\n",
              "      <td>1.1750</td>\n",
              "      <td>0.4125</td>\n",
              "      <td>24.635715</td>\n",
              "      <td>12.332033</td>\n",
              "      <td>5.584852</td>\n",
              "      <td>6.747181</td>\n",
              "      <td>9</td>\n",
              "      <td>0</td>\n",
              "      <td>1.0</td>\n",
              "      <td>0.0</td>\n",
              "      <td>0.0</td>\n",
              "    </tr>\n",
              "    <tr>\n",
              "      <th>1</th>\n",
              "      <td>M</td>\n",
              "      <td>0.8875</td>\n",
              "      <td>0.6500</td>\n",
              "      <td>0.2125</td>\n",
              "      <td>5.400580</td>\n",
              "      <td>2.296310</td>\n",
              "      <td>1.374951</td>\n",
              "      <td>1.559222</td>\n",
              "      <td>6</td>\n",
              "      <td>2</td>\n",
              "      <td>0.0</td>\n",
              "      <td>0.0</td>\n",
              "      <td>1.0</td>\n",
              "    </tr>\n",
              "    <tr>\n",
              "      <th>2</th>\n",
              "      <td>I</td>\n",
              "      <td>1.0375</td>\n",
              "      <td>0.7750</td>\n",
              "      <td>0.2500</td>\n",
              "      <td>7.952035</td>\n",
              "      <td>3.231843</td>\n",
              "      <td>1.601747</td>\n",
              "      <td>2.764076</td>\n",
              "      <td>6</td>\n",
              "      <td>1</td>\n",
              "      <td>0.0</td>\n",
              "      <td>1.0</td>\n",
              "      <td>0.0</td>\n",
              "    </tr>\n",
              "    <tr>\n",
              "      <th>3</th>\n",
              "      <td>F</td>\n",
              "      <td>1.1750</td>\n",
              "      <td>0.8875</td>\n",
              "      <td>0.2500</td>\n",
              "      <td>13.480187</td>\n",
              "      <td>4.748541</td>\n",
              "      <td>2.282135</td>\n",
              "      <td>5.244657</td>\n",
              "      <td>10</td>\n",
              "      <td>0</td>\n",
              "      <td>1.0</td>\n",
              "      <td>0.0</td>\n",
              "      <td>0.0</td>\n",
              "    </tr>\n",
              "    <tr>\n",
              "      <th>4</th>\n",
              "      <td>I</td>\n",
              "      <td>0.8875</td>\n",
              "      <td>0.6625</td>\n",
              "      <td>0.2125</td>\n",
              "      <td>6.903103</td>\n",
              "      <td>3.458639</td>\n",
              "      <td>1.488349</td>\n",
              "      <td>1.700970</td>\n",
              "      <td>6</td>\n",
              "      <td>1</td>\n",
              "      <td>0.0</td>\n",
              "      <td>1.0</td>\n",
              "      <td>0.0</td>\n",
              "    </tr>\n",
              "    <tr>\n",
              "      <th>...</th>\n",
              "      <td>...</td>\n",
              "      <td>...</td>\n",
              "      <td>...</td>\n",
              "      <td>...</td>\n",
              "      <td>...</td>\n",
              "      <td>...</td>\n",
              "      <td>...</td>\n",
              "      <td>...</td>\n",
              "      <td>...</td>\n",
              "      <td>...</td>\n",
              "      <td>...</td>\n",
              "      <td>...</td>\n",
              "      <td>...</td>\n",
              "    </tr>\n",
              "    <tr>\n",
              "      <th>3888</th>\n",
              "      <td>F</td>\n",
              "      <td>1.4625</td>\n",
              "      <td>1.1375</td>\n",
              "      <td>0.3250</td>\n",
              "      <td>24.819987</td>\n",
              "      <td>11.651645</td>\n",
              "      <td>5.854172</td>\n",
              "      <td>6.378637</td>\n",
              "      <td>8</td>\n",
              "      <td>0</td>\n",
              "      <td>1.0</td>\n",
              "      <td>0.0</td>\n",
              "      <td>0.0</td>\n",
              "    </tr>\n",
              "    <tr>\n",
              "      <th>3889</th>\n",
              "      <td>F</td>\n",
              "      <td>1.5500</td>\n",
              "      <td>1.2125</td>\n",
              "      <td>0.4375</td>\n",
              "      <td>34.458817</td>\n",
              "      <td>15.450477</td>\n",
              "      <td>7.172423</td>\n",
              "      <td>9.780577</td>\n",
              "      <td>10</td>\n",
              "      <td>0</td>\n",
              "      <td>1.0</td>\n",
              "      <td>0.0</td>\n",
              "      <td>0.0</td>\n",
              "    </tr>\n",
              "    <tr>\n",
              "      <th>3890</th>\n",
              "      <td>I</td>\n",
              "      <td>0.6250</td>\n",
              "      <td>0.4625</td>\n",
              "      <td>0.1625</td>\n",
              "      <td>2.012815</td>\n",
              "      <td>0.765436</td>\n",
              "      <td>0.524466</td>\n",
              "      <td>0.637864</td>\n",
              "      <td>5</td>\n",
              "      <td>1</td>\n",
              "      <td>0.0</td>\n",
              "      <td>1.0</td>\n",
              "      <td>0.0</td>\n",
              "    </tr>\n",
              "    <tr>\n",
              "      <th>3891</th>\n",
              "      <td>I</td>\n",
              "      <td>1.0625</td>\n",
              "      <td>0.7750</td>\n",
              "      <td>0.2625</td>\n",
              "      <td>10.347568</td>\n",
              "      <td>4.507570</td>\n",
              "      <td>2.338834</td>\n",
              "      <td>2.976697</td>\n",
              "      <td>6</td>\n",
              "      <td>1</td>\n",
              "      <td>0.0</td>\n",
              "      <td>1.0</td>\n",
              "      <td>0.0</td>\n",
              "    </tr>\n",
              "    <tr>\n",
              "      <th>3892</th>\n",
              "      <td>I</td>\n",
              "      <td>0.7875</td>\n",
              "      <td>0.6125</td>\n",
              "      <td>0.2125</td>\n",
              "      <td>4.068153</td>\n",
              "      <td>1.502524</td>\n",
              "      <td>1.346601</td>\n",
              "      <td>1.417475</td>\n",
              "      <td>8</td>\n",
              "      <td>1</td>\n",
              "      <td>0.0</td>\n",
              "      <td>1.0</td>\n",
              "      <td>0.0</td>\n",
              "    </tr>\n",
              "  </tbody>\n",
              "</table>\n",
              "<p>3893 rows × 13 columns</p>\n",
              "</div>"
            ],
            "text/plain": [
              "     Sex  Length  Diameter  Height     Weight  ...  Age  Gender    0    1    2\n",
              "0      F  1.4375    1.1750  0.4125  24.635715  ...    9       0  1.0  0.0  0.0\n",
              "1      M  0.8875    0.6500  0.2125   5.400580  ...    6       2  0.0  0.0  1.0\n",
              "2      I  1.0375    0.7750  0.2500   7.952035  ...    6       1  0.0  1.0  0.0\n",
              "3      F  1.1750    0.8875  0.2500  13.480187  ...   10       0  1.0  0.0  0.0\n",
              "4      I  0.8875    0.6625  0.2125   6.903103  ...    6       1  0.0  1.0  0.0\n",
              "...   ..     ...       ...     ...        ...  ...  ...     ...  ...  ...  ...\n",
              "3888   F  1.4625    1.1375  0.3250  24.819987  ...    8       0  1.0  0.0  0.0\n",
              "3889   F  1.5500    1.2125  0.4375  34.458817  ...   10       0  1.0  0.0  0.0\n",
              "3890   I  0.6250    0.4625  0.1625   2.012815  ...    5       1  0.0  1.0  0.0\n",
              "3891   I  1.0625    0.7750  0.2625  10.347568  ...    6       1  0.0  1.0  0.0\n",
              "3892   I  0.7875    0.6125  0.2125   4.068153  ...    8       1  0.0  1.0  0.0\n",
              "\n",
              "[3893 rows x 13 columns]"
            ]
          },
          "metadata": {},
          "execution_count": 98
        }
      ]
    },
    {
      "cell_type": "code",
      "metadata": {
        "id": "D_iH7mViOZ8p"
      },
      "source": [
        "#Renaming columns \n",
        "#df.rename(columns={'oldName1': 'newName1', 'oldName2': 'newName2'}, inplace=True)\n",
        "crab_df.rename(columns = {0: \"Female\", 1: \"Intermediate\", 2 : \"Male\"}, inplace = True)"
      ],
      "execution_count": 99,
      "outputs": []
    },
    {
      "cell_type": "code",
      "metadata": {
        "colab": {
          "base_uri": "https://localhost:8080/",
          "height": 424
        },
        "id": "dMTPGIMyO5JG",
        "outputId": "5f673b8f-1924-4d62-9cdd-0442cbf3b8e0"
      },
      "source": [
        "crab_df"
      ],
      "execution_count": 100,
      "outputs": [
        {
          "output_type": "execute_result",
          "data": {
            "text/html": [
              "<div>\n",
              "<style scoped>\n",
              "    .dataframe tbody tr th:only-of-type {\n",
              "        vertical-align: middle;\n",
              "    }\n",
              "\n",
              "    .dataframe tbody tr th {\n",
              "        vertical-align: top;\n",
              "    }\n",
              "\n",
              "    .dataframe thead th {\n",
              "        text-align: right;\n",
              "    }\n",
              "</style>\n",
              "<table border=\"1\" class=\"dataframe\">\n",
              "  <thead>\n",
              "    <tr style=\"text-align: right;\">\n",
              "      <th></th>\n",
              "      <th>Sex</th>\n",
              "      <th>Length</th>\n",
              "      <th>Diameter</th>\n",
              "      <th>Height</th>\n",
              "      <th>Weight</th>\n",
              "      <th>Shucked Weight</th>\n",
              "      <th>Viscera Weight</th>\n",
              "      <th>Shell Weight</th>\n",
              "      <th>Age</th>\n",
              "      <th>Gender</th>\n",
              "      <th>Female</th>\n",
              "      <th>Intermediate</th>\n",
              "      <th>Male</th>\n",
              "    </tr>\n",
              "  </thead>\n",
              "  <tbody>\n",
              "    <tr>\n",
              "      <th>0</th>\n",
              "      <td>F</td>\n",
              "      <td>1.4375</td>\n",
              "      <td>1.1750</td>\n",
              "      <td>0.4125</td>\n",
              "      <td>24.635715</td>\n",
              "      <td>12.332033</td>\n",
              "      <td>5.584852</td>\n",
              "      <td>6.747181</td>\n",
              "      <td>9</td>\n",
              "      <td>0</td>\n",
              "      <td>1.0</td>\n",
              "      <td>0.0</td>\n",
              "      <td>0.0</td>\n",
              "    </tr>\n",
              "    <tr>\n",
              "      <th>1</th>\n",
              "      <td>M</td>\n",
              "      <td>0.8875</td>\n",
              "      <td>0.6500</td>\n",
              "      <td>0.2125</td>\n",
              "      <td>5.400580</td>\n",
              "      <td>2.296310</td>\n",
              "      <td>1.374951</td>\n",
              "      <td>1.559222</td>\n",
              "      <td>6</td>\n",
              "      <td>2</td>\n",
              "      <td>0.0</td>\n",
              "      <td>0.0</td>\n",
              "      <td>1.0</td>\n",
              "    </tr>\n",
              "    <tr>\n",
              "      <th>2</th>\n",
              "      <td>I</td>\n",
              "      <td>1.0375</td>\n",
              "      <td>0.7750</td>\n",
              "      <td>0.2500</td>\n",
              "      <td>7.952035</td>\n",
              "      <td>3.231843</td>\n",
              "      <td>1.601747</td>\n",
              "      <td>2.764076</td>\n",
              "      <td>6</td>\n",
              "      <td>1</td>\n",
              "      <td>0.0</td>\n",
              "      <td>1.0</td>\n",
              "      <td>0.0</td>\n",
              "    </tr>\n",
              "    <tr>\n",
              "      <th>3</th>\n",
              "      <td>F</td>\n",
              "      <td>1.1750</td>\n",
              "      <td>0.8875</td>\n",
              "      <td>0.2500</td>\n",
              "      <td>13.480187</td>\n",
              "      <td>4.748541</td>\n",
              "      <td>2.282135</td>\n",
              "      <td>5.244657</td>\n",
              "      <td>10</td>\n",
              "      <td>0</td>\n",
              "      <td>1.0</td>\n",
              "      <td>0.0</td>\n",
              "      <td>0.0</td>\n",
              "    </tr>\n",
              "    <tr>\n",
              "      <th>4</th>\n",
              "      <td>I</td>\n",
              "      <td>0.8875</td>\n",
              "      <td>0.6625</td>\n",
              "      <td>0.2125</td>\n",
              "      <td>6.903103</td>\n",
              "      <td>3.458639</td>\n",
              "      <td>1.488349</td>\n",
              "      <td>1.700970</td>\n",
              "      <td>6</td>\n",
              "      <td>1</td>\n",
              "      <td>0.0</td>\n",
              "      <td>1.0</td>\n",
              "      <td>0.0</td>\n",
              "    </tr>\n",
              "    <tr>\n",
              "      <th>...</th>\n",
              "      <td>...</td>\n",
              "      <td>...</td>\n",
              "      <td>...</td>\n",
              "      <td>...</td>\n",
              "      <td>...</td>\n",
              "      <td>...</td>\n",
              "      <td>...</td>\n",
              "      <td>...</td>\n",
              "      <td>...</td>\n",
              "      <td>...</td>\n",
              "      <td>...</td>\n",
              "      <td>...</td>\n",
              "      <td>...</td>\n",
              "    </tr>\n",
              "    <tr>\n",
              "      <th>3888</th>\n",
              "      <td>F</td>\n",
              "      <td>1.4625</td>\n",
              "      <td>1.1375</td>\n",
              "      <td>0.3250</td>\n",
              "      <td>24.819987</td>\n",
              "      <td>11.651645</td>\n",
              "      <td>5.854172</td>\n",
              "      <td>6.378637</td>\n",
              "      <td>8</td>\n",
              "      <td>0</td>\n",
              "      <td>1.0</td>\n",
              "      <td>0.0</td>\n",
              "      <td>0.0</td>\n",
              "    </tr>\n",
              "    <tr>\n",
              "      <th>3889</th>\n",
              "      <td>F</td>\n",
              "      <td>1.5500</td>\n",
              "      <td>1.2125</td>\n",
              "      <td>0.4375</td>\n",
              "      <td>34.458817</td>\n",
              "      <td>15.450477</td>\n",
              "      <td>7.172423</td>\n",
              "      <td>9.780577</td>\n",
              "      <td>10</td>\n",
              "      <td>0</td>\n",
              "      <td>1.0</td>\n",
              "      <td>0.0</td>\n",
              "      <td>0.0</td>\n",
              "    </tr>\n",
              "    <tr>\n",
              "      <th>3890</th>\n",
              "      <td>I</td>\n",
              "      <td>0.6250</td>\n",
              "      <td>0.4625</td>\n",
              "      <td>0.1625</td>\n",
              "      <td>2.012815</td>\n",
              "      <td>0.765436</td>\n",
              "      <td>0.524466</td>\n",
              "      <td>0.637864</td>\n",
              "      <td>5</td>\n",
              "      <td>1</td>\n",
              "      <td>0.0</td>\n",
              "      <td>1.0</td>\n",
              "      <td>0.0</td>\n",
              "    </tr>\n",
              "    <tr>\n",
              "      <th>3891</th>\n",
              "      <td>I</td>\n",
              "      <td>1.0625</td>\n",
              "      <td>0.7750</td>\n",
              "      <td>0.2625</td>\n",
              "      <td>10.347568</td>\n",
              "      <td>4.507570</td>\n",
              "      <td>2.338834</td>\n",
              "      <td>2.976697</td>\n",
              "      <td>6</td>\n",
              "      <td>1</td>\n",
              "      <td>0.0</td>\n",
              "      <td>1.0</td>\n",
              "      <td>0.0</td>\n",
              "    </tr>\n",
              "    <tr>\n",
              "      <th>3892</th>\n",
              "      <td>I</td>\n",
              "      <td>0.7875</td>\n",
              "      <td>0.6125</td>\n",
              "      <td>0.2125</td>\n",
              "      <td>4.068153</td>\n",
              "      <td>1.502524</td>\n",
              "      <td>1.346601</td>\n",
              "      <td>1.417475</td>\n",
              "      <td>8</td>\n",
              "      <td>1</td>\n",
              "      <td>0.0</td>\n",
              "      <td>1.0</td>\n",
              "      <td>0.0</td>\n",
              "    </tr>\n",
              "  </tbody>\n",
              "</table>\n",
              "<p>3893 rows × 13 columns</p>\n",
              "</div>"
            ],
            "text/plain": [
              "     Sex  Length  Diameter  Height  ...  Gender  Female  Intermediate  Male\n",
              "0      F  1.4375    1.1750  0.4125  ...       0     1.0           0.0   0.0\n",
              "1      M  0.8875    0.6500  0.2125  ...       2     0.0           0.0   1.0\n",
              "2      I  1.0375    0.7750  0.2500  ...       1     0.0           1.0   0.0\n",
              "3      F  1.1750    0.8875  0.2500  ...       0     1.0           0.0   0.0\n",
              "4      I  0.8875    0.6625  0.2125  ...       1     0.0           1.0   0.0\n",
              "...   ..     ...       ...     ...  ...     ...     ...           ...   ...\n",
              "3888   F  1.4625    1.1375  0.3250  ...       0     1.0           0.0   0.0\n",
              "3889   F  1.5500    1.2125  0.4375  ...       0     1.0           0.0   0.0\n",
              "3890   I  0.6250    0.4625  0.1625  ...       1     0.0           1.0   0.0\n",
              "3891   I  1.0625    0.7750  0.2625  ...       1     0.0           1.0   0.0\n",
              "3892   I  0.7875    0.6125  0.2125  ...       1     0.0           1.0   0.0\n",
              "\n",
              "[3893 rows x 13 columns]"
            ]
          },
          "metadata": {},
          "execution_count": 100
        }
      ]
    },
    {
      "cell_type": "markdown",
      "metadata": {
        "id": "-46dMJixO7H2"
      },
      "source": [
        "#Drop columns of no interest "
      ]
    },
    {
      "cell_type": "code",
      "metadata": {
        "id": "IN2UnG-9O99L"
      },
      "source": [
        "crab_df.drop(columns = [\"Sex\", \"Gender\"], inplace = True)"
      ],
      "execution_count": 101,
      "outputs": []
    },
    {
      "cell_type": "code",
      "metadata": {
        "colab": {
          "base_uri": "https://localhost:8080/"
        },
        "id": "6ZiWnCZKPkqY",
        "outputId": "66876e8d-1b18-4af3-c780-ca7f663d371c"
      },
      "source": [
        "crab_df.columns"
      ],
      "execution_count": 102,
      "outputs": [
        {
          "output_type": "execute_result",
          "data": {
            "text/plain": [
              "Index(['Length', 'Diameter', 'Height', 'Weight', 'Shucked Weight',\n",
              "       'Viscera Weight', 'Shell Weight', 'Age', 'Female', 'Intermediate',\n",
              "       'Male'],\n",
              "      dtype='object')"
            ]
          },
          "metadata": {},
          "execution_count": 102
        }
      ]
    },
    {
      "cell_type": "code",
      "metadata": {
        "id": "9rKbi2bmKdo-"
      },
      "source": [
        "X = crab_df[['Length', 'Diameter', 'Height', 'Weight', 'Shucked Weight',\n",
        "       'Viscera Weight', 'Shell Weight', 'Female', 'Intermediate',\n",
        "       'Male']]\n",
        "\n",
        "y = crab_df[\"Age\"]"
      ],
      "execution_count": 103,
      "outputs": []
    },
    {
      "cell_type": "markdown",
      "metadata": {
        "id": "OE0mBVO4P-qA"
      },
      "source": [
        "# Splitting data "
      ]
    },
    {
      "cell_type": "code",
      "metadata": {
        "id": "JnoONvwyQA38"
      },
      "source": [
        "from sklearn.model_selection import train_test_split\n",
        "X_train, X_test, y_train, y_test = train_test_split(X, y, test_size = 0.2, random_state = 101)"
      ],
      "execution_count": 104,
      "outputs": []
    },
    {
      "cell_type": "code",
      "metadata": {
        "colab": {
          "base_uri": "https://localhost:8080/"
        },
        "id": "1y5GH3wgQOho",
        "outputId": "a8b9250a-4616-4c86-8cb0-7519c0415fc9"
      },
      "source": [
        "X_train.shape"
      ],
      "execution_count": 106,
      "outputs": [
        {
          "output_type": "execute_result",
          "data": {
            "text/plain": [
              "(3114, 10)"
            ]
          },
          "metadata": {},
          "execution_count": 106
        }
      ]
    },
    {
      "cell_type": "code",
      "metadata": {
        "colab": {
          "base_uri": "https://localhost:8080/"
        },
        "id": "AbfG37ifQTMl",
        "outputId": "74963807-6764-4f7b-8daa-fb37c2745e17"
      },
      "source": [
        "X_test.shape"
      ],
      "execution_count": 107,
      "outputs": [
        {
          "output_type": "execute_result",
          "data": {
            "text/plain": [
              "(779, 10)"
            ]
          },
          "metadata": {},
          "execution_count": 107
        }
      ]
    },
    {
      "cell_type": "code",
      "metadata": {
        "colab": {
          "base_uri": "https://localhost:8080/"
        },
        "id": "jun9Z6xTQV9u",
        "outputId": "43d6d3f5-d39c-43b9-9fb8-6824730a802d"
      },
      "source": [
        "y_train.shape"
      ],
      "execution_count": 108,
      "outputs": [
        {
          "output_type": "execute_result",
          "data": {
            "text/plain": [
              "(3114,)"
            ]
          },
          "metadata": {},
          "execution_count": 108
        }
      ]
    },
    {
      "cell_type": "code",
      "metadata": {
        "colab": {
          "base_uri": "https://localhost:8080/"
        },
        "id": "fdLSh4skQYlE",
        "outputId": "358f0436-3df3-4655-d52e-7569b72c726b"
      },
      "source": [
        "y_test.shape"
      ],
      "execution_count": 109,
      "outputs": [
        {
          "output_type": "execute_result",
          "data": {
            "text/plain": [
              "(779,)"
            ]
          },
          "metadata": {},
          "execution_count": 109
        }
      ]
    },
    {
      "cell_type": "markdown",
      "metadata": {
        "id": "-7Y4hD0nQbmP"
      },
      "source": [
        "# Training model"
      ]
    },
    {
      "cell_type": "code",
      "metadata": {
        "colab": {
          "base_uri": "https://localhost:8080/"
        },
        "id": "Hn4ACUIDQehv",
        "outputId": "7f4fb392-5858-4ef8-da13-75e2f3fa6ba5"
      },
      "source": [
        "from sklearn.linear_model import LinearRegression\n",
        "lm = LinearRegression()\n",
        "lm.fit(X_train, y_train)"
      ],
      "execution_count": 112,
      "outputs": [
        {
          "output_type": "execute_result",
          "data": {
            "text/plain": [
              "LinearRegression()"
            ]
          },
          "metadata": {},
          "execution_count": 112
        }
      ]
    },
    {
      "cell_type": "markdown",
      "metadata": {
        "id": "a3Mf7P-qQprt"
      },
      "source": [
        "# Model Evaluation"
      ]
    },
    {
      "cell_type": "code",
      "metadata": {
        "colab": {
          "base_uri": "https://localhost:8080/"
        },
        "id": "x_da4s3aQu5D",
        "outputId": "c276c698-3684-4157-8c34-b58a75d15559"
      },
      "source": [
        "lm.intercept_"
      ],
      "execution_count": 114,
      "outputs": [
        {
          "output_type": "execute_result",
          "data": {
            "text/plain": [
              "3.8023087411683374"
            ]
          },
          "metadata": {},
          "execution_count": 114
        }
      ]
    },
    {
      "cell_type": "code",
      "metadata": {
        "colab": {
          "base_uri": "https://localhost:8080/",
          "height": 363
        },
        "id": "vACXZ7x3Q3b9",
        "outputId": "0a318981-1b92-4784-ffa5-45e37d628de9"
      },
      "source": [
        "coeff_df = pd.DataFrame(lm.coef_,X.columns,columns = ['Coefficient'])\n",
        "coeff_df"
      ],
      "execution_count": 115,
      "outputs": [
        {
          "output_type": "execute_result",
          "data": {
            "text/html": [
              "<div>\n",
              "<style scoped>\n",
              "    .dataframe tbody tr th:only-of-type {\n",
              "        vertical-align: middle;\n",
              "    }\n",
              "\n",
              "    .dataframe tbody tr th {\n",
              "        vertical-align: top;\n",
              "    }\n",
              "\n",
              "    .dataframe thead th {\n",
              "        text-align: right;\n",
              "    }\n",
              "</style>\n",
              "<table border=\"1\" class=\"dataframe\">\n",
              "  <thead>\n",
              "    <tr style=\"text-align: right;\">\n",
              "      <th></th>\n",
              "      <th>Coefficient</th>\n",
              "    </tr>\n",
              "  </thead>\n",
              "  <tbody>\n",
              "    <tr>\n",
              "      <th>Length</th>\n",
              "      <td>-0.622133</td>\n",
              "    </tr>\n",
              "    <tr>\n",
              "      <th>Diameter</th>\n",
              "      <td>4.961933</td>\n",
              "    </tr>\n",
              "    <tr>\n",
              "      <th>Height</th>\n",
              "      <td>3.779713</td>\n",
              "    </tr>\n",
              "    <tr>\n",
              "      <th>Weight</th>\n",
              "      <td>0.357442</td>\n",
              "    </tr>\n",
              "    <tr>\n",
              "      <th>Shucked Weight</th>\n",
              "      <td>-0.726636</td>\n",
              "    </tr>\n",
              "    <tr>\n",
              "      <th>Viscera Weight</th>\n",
              "      <td>-0.442120</td>\n",
              "    </tr>\n",
              "    <tr>\n",
              "      <th>Shell Weight</th>\n",
              "      <td>0.271032</td>\n",
              "    </tr>\n",
              "    <tr>\n",
              "      <th>Female</th>\n",
              "      <td>0.243472</td>\n",
              "    </tr>\n",
              "    <tr>\n",
              "      <th>Intermediate</th>\n",
              "      <td>-0.548904</td>\n",
              "    </tr>\n",
              "    <tr>\n",
              "      <th>Male</th>\n",
              "      <td>0.305433</td>\n",
              "    </tr>\n",
              "  </tbody>\n",
              "</table>\n",
              "</div>"
            ],
            "text/plain": [
              "                Coefficient\n",
              "Length            -0.622133\n",
              "Diameter           4.961933\n",
              "Height             3.779713\n",
              "Weight             0.357442\n",
              "Shucked Weight    -0.726636\n",
              "Viscera Weight    -0.442120\n",
              "Shell Weight       0.271032\n",
              "Female             0.243472\n",
              "Intermediate      -0.548904\n",
              "Male               0.305433"
            ]
          },
          "metadata": {},
          "execution_count": 115
        }
      ]
    },
    {
      "cell_type": "markdown",
      "metadata": {
        "id": "sc50J8pHQ-FL"
      },
      "source": [
        "# Making predictions using test data"
      ]
    },
    {
      "cell_type": "code",
      "metadata": {
        "id": "jtdXqyAyRAIy"
      },
      "source": [
        "predictions = lm.predict(X_test)"
      ],
      "execution_count": 117,
      "outputs": []
    },
    {
      "cell_type": "markdown",
      "metadata": {
        "id": "2kcESlnqRIxu"
      },
      "source": [
        "# Model metrics"
      ]
    },
    {
      "cell_type": "code",
      "metadata": {
        "colab": {
          "base_uri": "https://localhost:8080/"
        },
        "id": "1Zz_LvX7RKVY",
        "outputId": "8443fb0b-fc4d-436d-fcfe-cef322b533cc"
      },
      "source": [
        "from sklearn import metrics\n",
        "print(\"MEA\", metrics.mean_absolute_error(y_test, predictions))"
      ],
      "execution_count": 118,
      "outputs": [
        {
          "output_type": "stream",
          "name": "stdout",
          "text": [
            "MEA 1.5842563254741842\n"
          ]
        }
      ]
    },
    {
      "cell_type": "code",
      "metadata": {
        "colab": {
          "base_uri": "https://localhost:8080/"
        },
        "id": "xElvxPhqRYjQ",
        "outputId": "2463a449-38b8-4179-d01d-d12b89a71bdc"
      },
      "source": [
        "print(\"MSE\", metrics.mean_squared_error(y_test, predictions))"
      ],
      "execution_count": 119,
      "outputs": [
        {
          "output_type": "stream",
          "name": "stdout",
          "text": [
            "MSE 4.859145605789454\n"
          ]
        }
      ]
    },
    {
      "cell_type": "code",
      "metadata": {
        "colab": {
          "base_uri": "https://localhost:8080/"
        },
        "id": "syfLI-ryRjS3",
        "outputId": "09daf93a-6597-4abe-fe24-d091cf0727d4"
      },
      "source": [
        "print(\"RMSE\", np.sqrt(metrics.mean_squared_error(y_test, predictions)))"
      ],
      "execution_count": 121,
      "outputs": [
        {
          "output_type": "stream",
          "name": "stdout",
          "text": [
            "RMSE 2.204346979445263\n"
          ]
        }
      ]
    }
  ]
}